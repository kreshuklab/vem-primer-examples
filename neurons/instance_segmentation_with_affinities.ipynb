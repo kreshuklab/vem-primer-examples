{
 "cells": [
  {
   "cell_type": "markdown",
   "id": "8f647265",
   "metadata": {},
   "source": [
    "# Affinity-based instance segmentation\n",
    "\n",
    "Lorem ipsum"
   ]
  },
  {
   "cell_type": "code",
   "execution_count": null,
   "id": "36f29e15",
   "metadata": {},
   "outputs": [],
   "source": [
    "# TODO google colab stuff"
   ]
  },
  {
   "cell_type": "markdown",
   "id": "30e2fac1",
   "metadata": {},
   "source": [
    "## Affinity prediction\n",
    "\n",
    "Lorem ipsum"
   ]
  },
  {
   "cell_type": "code",
   "execution_count": 7,
   "id": "32b53040",
   "metadata": {},
   "outputs": [],
   "source": [
    "import bioimageio.core\n",
    "import h5py\n",
    "import napari\n",
    "from bioimageio.core.prediction import predict_with_tiling\n",
    "from xarray import DataArray"
   ]
  },
  {
   "cell_type": "code",
   "execution_count": 4,
   "id": "50a41322",
   "metadata": {},
   "outputs": [
    {
     "name": "stderr",
     "output_type": "stream",
     "text": [
      "torch-em.git: 208kiB [00:00, 3.04MiB/s]\n"
     ]
    }
   ],
   "source": [
    "# load the model\n",
    "# TODO from doi\n",
    "model = \"./NeuronEMSegmentationAffinityModel.zip\"\n",
    "model = bioimageio.core.load_resource_description(model)"
   ]
  },
  {
   "cell_type": "code",
   "execution_count": 5,
   "id": "1ff7867b",
   "metadata": {},
   "outputs": [],
   "source": [
    "# load the data\n",
    "with h5py.File(\"./sample_A+_20160601.h5\", \"r\") as f:\n",
    "    raw = f[\"volumes/raw\"][:]"
   ]
  },
  {
   "cell_type": "code",
   "execution_count": 24,
   "id": "845117c8",
   "metadata": {},
   "outputs": [
    {
     "name": "stderr",
     "output_type": "stream",
     "text": [
      "prediction with tiling: 100%|████████████████████████████████████████████████████████████████████████████████████████████████████████████████████████████████████████████| 968/968 [42:17<00:00,  2.62s/it]\n"
     ]
    }
   ],
   "source": [
    "# run prediction\n",
    "# NOTE: needs to run on gpu\n",
    "\n",
    "# use the default configuration from the model\n",
    "# tiling = True\n",
    "# custom tiling configuration\n",
    "tiling = {\"tile\": {\"x\": 120, \"y\": 120, \"z\": 16}, \"halo\": {\"x\": 12, \"y\": 12, \"z\": 4}}\n",
    "\n",
    "with bioimageio.core.create_prediction_pipeline(bioimageio_model=model) as pp:\n",
    "    input_ = DataArray(raw[None, None], dims=tuple(pp.input_specs[0].axes))\n",
    "    affinities = predict_with_tiling(pp, input_, verbose=True, tiling=tiling)\n",
    "affinities = affinities[0].values[0]"
   ]
  },
  {
   "cell_type": "code",
   "execution_count": 18,
   "id": "a8728390",
   "metadata": {},
   "outputs": [
    {
     "data": {
      "text/plain": [
       "<Image layer 'Image' at 0x7f35f00afdf0>"
      ]
     },
     "execution_count": 18,
     "metadata": {},
     "output_type": "execute_result"
    }
   ],
   "source": [
    "# visualize the predictions\n",
    "v = napari.Viewer()\n",
    "v.add_image(raw)\n",
    "v.add_image(affinities)"
   ]
  },
  {
   "cell_type": "markdown",
   "id": "db4c228d",
   "metadata": {},
   "source": [
    "## Segmentation with the Mutex Watershed\n",
    "\n",
    "Lorem ipsum"
   ]
  },
  {
   "cell_type": "code",
   "execution_count": 20,
   "id": "1e825eea",
   "metadata": {},
   "outputs": [],
   "source": [
    "import numpy as np\n",
    "from elf.segmentation.mutex_watershed import mutex_watershed"
   ]
  },
  {
   "cell_type": "code",
   "execution_count": 27,
   "id": "e282a5d2",
   "metadata": {},
   "outputs": [],
   "source": [
    "offsets = model.config[\"mws\"][\"offsets\"]\n",
    "strides = [4, 4, 4]\n",
    "# TODO run on full volume once we have merged the\n",
    "bb = np.s_[25:50, :1024, :1024]\n",
    "segmentation = mutex_watershed(affinities[(slice(None),) + bb], offsets, strides)"
   ]
  },
  {
   "cell_type": "code",
   "execution_count": 28,
   "id": "1d288632",
   "metadata": {},
   "outputs": [
    {
     "data": {
      "text/plain": [
       "<Labels layer 'segmentation' at 0x7f35ebf0da30>"
      ]
     },
     "execution_count": 28,
     "metadata": {},
     "output_type": "execute_result"
    }
   ],
   "source": [
    "v = napari.Viewer()\n",
    "v.add_image(raw[bb])\n",
    "v.add_labels(segmentation)"
   ]
  },
  {
   "cell_type": "code",
   "execution_count": null,
   "id": "02f842c9",
   "metadata": {},
   "outputs": [],
   "source": [
    "# save the segmentation\n",
    "out_path = \"sampleA+_segmentation.h5\"\n",
    "with h5py.File(out_path, \"a\") as f:\n",
    "    f.create_dataset(\"segmentation\", data=segmentation, compression=\"gzip\")"
   ]
  }
 ],
 "metadata": {
  "kernelspec": {
   "display_name": "Python 3 (ipykernel)",
   "language": "python",
   "name": "python3"
  },
  "language_info": {
   "codemirror_mode": {
    "name": "ipython",
    "version": 3
   },
   "file_extension": ".py",
   "mimetype": "text/x-python",
   "name": "python",
   "nbconvert_exporter": "python",
   "pygments_lexer": "ipython3",
   "version": "3.9.7"
  }
 },
 "nbformat": 4,
 "nbformat_minor": 5
}
