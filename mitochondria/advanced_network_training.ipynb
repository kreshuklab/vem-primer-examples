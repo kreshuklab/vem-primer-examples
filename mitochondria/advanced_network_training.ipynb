{
 "cells": [
  {
   "cell_type": "markdown",
   "id": "224acaf8",
   "metadata": {},
   "source": [
    "<a href=\"https://colab.research.google.com/github/kreshuklab/vem-primer-examples/blob/main/mitochondria/advanced_network_training.ipynb\" target=\"_parent\"><img src=\"https://colab.research.google.com/assets/colab-badge.svg\" alt=\"Open In Colab\"/></a>"
   ]
  },
  {
   "cell_type": "markdown",
   "id": "becfff56",
   "metadata": {},
   "source": [
    " # vEM-Mitochondria: Network training\n",
    " \n",
    " Lorem ipsum"
   ]
  },
  {
   "cell_type": "markdown",
   "id": "bc967082",
   "metadata": {},
   "source": [
    "## Google Colab\n",
    "\n",
    "Lorem ipsum"
   ]
  },
  {
   "cell_type": "code",
   "execution_count": null,
   "id": "319616d4",
   "metadata": {},
   "outputs": [],
   "source": [
    "!pip install -q condacolab\n",
    "import condacolab\n",
    "condacolab.install()"
   ]
  },
  {
   "cell_type": "code",
   "execution_count": null,
   "id": "3b0b8f02",
   "metadata": {},
   "outputs": [],
   "source": [
    "!conda install -c conda-forge torch_em"
   ]
  },
  {
   "cell_type": "code",
   "execution_count": null,
   "id": "ac591bc8",
   "metadata": {},
   "outputs": [],
   "source": [
    "# mount google drive\n",
    "from google.colab import drive\n",
    "drive.mount(\"/content/gdrive\")"
   ]
  },
  {
   "cell_type": "markdown",
   "id": "db5254d1",
   "metadata": {},
   "source": [
    "## Training preparation\n",
    "\n",
    "Lorem ipsum"
   ]
  },
  {
   "cell_type": "code",
   "execution_count": null,
   "id": "b18b633d",
   "metadata": {},
   "outputs": [],
   "source": []
  },
  {
   "cell_type": "markdown",
   "id": "a4593f41",
   "metadata": {},
   "source": [
    "## Network training\n",
    "\n",
    "Lorem ipsum"
   ]
  },
  {
   "cell_type": "code",
   "execution_count": null,
   "id": "f360fd8e",
   "metadata": {},
   "outputs": [],
   "source": []
  }
 ],
 "metadata": {
  "kernelspec": {
   "display_name": "Python 3 (ipykernel)",
   "language": "python",
   "name": "python3"
  },
  "language_info": {
   "codemirror_mode": {
    "name": "ipython",
    "version": 3
   },
   "file_extension": ".py",
   "mimetype": "text/x-python",
   "name": "python",
   "nbconvert_exporter": "python",
   "pygments_lexer": "ipython3",
   "version": "3.9.7"
  }
 },
 "nbformat": 4,
 "nbformat_minor": 5
}
