{
 "cells": [
  {
   "cell_type": "markdown",
   "id": "b6034c40",
   "metadata": {},
   "source": [
    " # vEM-Mitochondria: Data Preparation\n",
    " \n",
    " Lorem ipsum"
   ]
  },
  {
   "cell_type": "markdown",
   "id": "00260d6f",
   "metadata": {},
   "source": [
    "## Google Colab\n",
    "\n",
    "IMPORTANT: Run the next cells until `Download MitoEM` only if you execute this notebook on Google Colab. If you run this notebook locally, you need to set up a python environment with the correct dependencies beforehand, check out [these instructions](TODO)."
   ]
  },
  {
   "cell_type": "code",
   "execution_count": null,
   "id": "f8e82aaa",
   "metadata": {},
   "outputs": [],
   "source": [
    "# TODO mount google drive"
   ]
  },
  {
   "cell_type": "markdown",
   "id": "d083bd0d",
   "metadata": {},
   "source": [
    "## Download MitoEM data and create volume\n",
    "\n",
    "Lorem ipsum"
   ]
  },
  {
   "cell_type": "code",
   "execution_count": 4,
   "id": "baf18b51",
   "metadata": {},
   "outputs": [],
   "source": [
    "# imports required for downloading and volume creation\n",
    "import hashlib\n",
    "import os\n",
    "import requests\n",
    "from glob import glob\n",
    "from shutil import copyfileobj\n",
    "\n",
    "import dask\n",
    "import dask.array as da\n",
    "import imageio\n",
    "from tqdm import tqdm"
   ]
  },
  {
   "cell_type": "code",
   "execution_count": 5,
   "id": "f3cd6499",
   "metadata": {},
   "outputs": [],
   "source": [
    "# url and checksum for the data\n",
    "mitoem_url = \"https://www.dropbox.com/sh/p5xn9e4gderjtm6/AADfUMzAA38XBvcXDTG1kAGGa/MitoEM-H.zip?dl=1\"\n",
    "checksum = \"f4ad14e098697be78d3ea13f263f76d5ba81a27e354c9edc906adfe728c765bd\"\n",
    "\n",
    "# where to save the data\n",
    "# the filepaths are for running in google colab, modify if you run this notebook locally\n",
    "data_root = \"./mito-em-data\"  # TODO colab path\n",
    "tmp_path = \"./mito-em-tmp\"\n",
    "\n",
    "os.makedirs(data_root, exist_ok=True)\n",
    "os.makedirs(tmp_path, exist_ok=True)"
   ]
  },
  {
   "cell_type": "code",
   "execution_count": 5,
   "id": "23b4e442",
   "metadata": {},
   "outputs": [],
   "source": [
    "# check if the data is already fully downloaded and initial volume has been created\n",
    "# if yes, we skip the following cells\n",
    "# TODO\n",
    "data_path = os.path.join(data_root, \"mitoem-h.ome.zarr\")\n",
    "have_mitoem_vol = False"
   ]
  },
  {
   "cell_type": "code",
   "execution_count": null,
   "id": "78ad9f65",
   "metadata": {},
   "outputs": [
    {
     "name": "stderr",
     "output_type": "stream",
     "text": [
      "Download https://www.dropbox.com/sh/p5xn9e4gderjtm6/AADfUMzAA38XBvcXDTG1kAGGa/MitoEM-H.zip?dl=1 to ./mito-em-tmp/mitoem-h.zip: 100%|██████████| 13.8G/13.8G [1:17:32<00:00, 3.18MB/s]  \n"
     ]
    }
   ],
   "source": [
    "# download the data\n",
    "zip_path = os.path.join(tmp_path, \"MitoEM-H.zip\")\n",
    "if not have_mitoem_vol and not os.path.exists(zip_path):\n",
    "    with requests.get(mitoem_url, stream=True) as r:\n",
    "        filesize = int(r.headers.get(\"Content-Length\", 0))\n",
    "        desc = f\"Download {mitoem_url} to {zip_path}\"\n",
    "        with tqdm.wrapattr(r.raw, \"read\", total=filesize, desc=desc) as r_raw, open(zip_path, \"wb\") as f:\n",
    "            copyfileobj(r_raw, f)\n",
    "    with open(zip_path, \"rb\") as f:\n",
    "        this_checksum = hashlib.sha256(f.read()).hexdigest()\n",
    "    if this_checksum == checksum:\n",
    "        print(\"Download to\", zip_path, \"was successful.\")\n",
    "    else:\n",
    "        print(\"The file was downloaded to\", zip_path, \"but the file is likely corrupted!\")\n",
    "        print(\"Please remove\", zip_path, \"and try the download again.\")"
   ]
  },
  {
   "cell_type": "code",
   "execution_count": null,
   "id": "037c5cea",
   "metadata": {},
   "outputs": [],
   "source": [
    "# unzip the data\n",
    "unzipped_path = os.path.join(tmp_path, \"\")\n",
    "if not have_mitoem_vol and not os.path.exists(unzipped_path):\n",
    "    pass  # TODO"
   ]
  },
  {
   "cell_type": "code",
   "execution_count": null,
   "id": "be0ea9a3",
   "metadata": {},
   "outputs": [],
   "source": [
    "# copy the data into a ome.zarr file\n",
    "# TODO actually use ome.zarr instead of normal zarr\n",
    "\n",
    "# we use dask to copy the data into the ome.zarr array lazily\n",
    "# see https://docs.dask.org/en/stable/array-creation.html\n",
    "# https://docs.dask.org/en/latest/generated/dask.array.to_zarr.html\n",
    "imread = dask.delayed(imageio.imread, pure=True)\n",
    "image_paths = glob(os.path.join(unzipped_path, \"*.png\"))\n",
    "image_paths.sort()\n",
    "images = [imread(path) for path in image_paths]\n",
    "\n",
    "# find the shape and datatype from the first image\n",
    "sample = images[0].compute()\n",
    "\n",
    "# load individual images to get a dask array for each image and stack to get a volume\n",
    "arrays = [da.from_delayed(im, dtype=sample.dtype, shape=sample.shape)\n",
    "          for im in images]\n",
    "volume = da.stack(arrays, axis=0)\n",
    "\n",
    "# write to zarr\n",
    "dask.to_zarr(volume, os.path.join(data_path, \"s0\"), chunks=(32, 128, 128))"
   ]
  },
  {
   "cell_type": "markdown",
   "id": "5f426fed",
   "metadata": {},
   "source": [
    "## Downscale and crop the data"
   ]
  },
  {
   "cell_type": "code",
   "execution_count": null,
   "id": "ab95fbce",
   "metadata": {},
   "outputs": [],
   "source": []
  }
 ],
 "metadata": {
  "kernelspec": {
   "display_name": "Python 3",
   "language": "python",
   "name": "python3.bkp"
  },
  "language_info": {
   "codemirror_mode": {
    "name": "ipython",
    "version": 3
   },
   "file_extension": ".py",
   "mimetype": "text/x-python",
   "name": "python",
   "nbconvert_exporter": "python",
   "pygments_lexer": "ipython3",
   "version": "3.7.10"
  }
 },
 "nbformat": 4,
 "nbformat_minor": 5
}
