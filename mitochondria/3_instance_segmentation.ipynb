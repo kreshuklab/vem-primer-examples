{
 "cells": [
  {
   "cell_type": "markdown",
   "id": "b99be16f",
   "metadata": {},
   "source": [
    "<a href=\"https://colab.research.google.com/github/kreshuklab/vem-primer-examples/blob/main/mitochondria/3_instance_segmentation.ipynb\" target=\"_parent\"><img src=\"https://colab.research.google.com/assets/colab-badge.svg\" alt=\"Open In Colab\"/></a>"
   ]
  },
  {
   "cell_type": "markdown",
   "id": "connected-constitution",
   "metadata": {},
   "source": [
    " # vEM-Mitochondria: Instance Segmentation\n",
    " \n",
    " Lorem ipsum"
   ]
  },
  {
   "cell_type": "markdown",
   "id": "electric-biotechnology",
   "metadata": {},
   "source": [
    "## Google Colab\n",
    "\n",
    "IMPORTANT: Run the next cells until `Instance Segmentation` only if you execute this notebook on Google Colab. If you run this notebook locally, you need to set up a python environment with the correct dependencies beforehand, check out [these instructions](https://github.com/kreshuklab/vem-primer-examples#setting-up-conda-environments-advanced)."
   ]
  },
  {
   "cell_type": "code",
   "execution_count": null,
   "id": "preliminary-drill",
   "metadata": {},
   "outputs": [],
   "source": [
    "# TODO mount google drive"
   ]
  },
  {
   "cell_type": "markdown",
   "id": "square-retailer",
   "metadata": {},
   "source": [
    "## Instance Segmentation\n",
    "\n",
    "Lorem ipsum"
   ]
  },
  {
   "cell_type": "code",
   "execution_count": 23,
   "id": "impressed-corporation",
   "metadata": {},
   "outputs": [],
   "source": [
    "# import all the required dependencies\n",
    "%matplotlib inline\n",
    "import matplotlib.pyplot as plt\n",
    "import numpy as np\n",
    "import zarr\n",
    "from skimage.measure import label\n",
    "from skimage.segmentation import watershed\n",
    "from numcodecs import GZip"
   ]
  },
  {
   "cell_type": "code",
   "execution_count": 24,
   "id": "hindu-arrow",
   "metadata": {},
   "outputs": [],
   "source": [
    "# TODO adapt to gdrive\n",
    "path = \"./mito-em-data/MitoEM-H-predictions.ome.zarr\"\n",
    "store = zarr.DirectoryStore(path)"
   ]
  },
  {
   "cell_type": "code",
   "execution_count": 25,
   "id": "facial-browse",
   "metadata": {},
   "outputs": [],
   "source": [
    "# apply connected components labeling with foreground and boundary pmaps\n",
    "def connected_components(foreground, boundaries, threshold=0.5, min_size=250):\n",
    "    seeds = label(np.clip(foreground - boundaries, 0, 1) > threshold)\n",
    "    mask = foreground > threshold\n",
    "    seg = watershed(boundaries, markers=seeds, mask=mask)\n",
    "    # apply size filter\n",
    "    seg_ids, sizes = np.unique(seg, return_counts=True)\n",
    "    bg_ids = seg_ids[sizes < min_size]\n",
    "    seg[np.isin(seg, bg_ids)] == 0\n",
    "    return seg"
   ]
  },
  {
   "cell_type": "code",
   "execution_count": 26,
   "id": "extraordinary-accounting",
   "metadata": {},
   "outputs": [],
   "source": [
    "# TODO adapt everything so that it works out of core\n",
    "# load the (probabilistic) semantic segmentation\n",
    "with zarr.open(path, \"a\") as f:\n",
    "    foreground = f[\"foreground\"][:]\n",
    "    boundaries = f[\"boundaries\"][:]\n",
    "    chunks = f[\"boundaries\"].chunks\n",
    "    instance_seg = connected_components(foreground, boundaries)\n",
    "    f.create_dataset(\"instance_segmentation\", data=instance_seg, chunks=chunks, compression=GZip())"
   ]
  },
  {
   "cell_type": "code",
   "execution_count": 27,
   "id": "presidential-warren",
   "metadata": {},
   "outputs": [
    {
     "data": {
      "image/png": "[encoded data removed]",
      "text/plain": [
       "<Figure size 432x288 with 3 Axes>"
      ]
     },
     "metadata": {
      "needs_background": "light"
     },
     "output_type": "display_data"
    }
   ],
   "source": [
    "fig, ax = plt.subplots(1, 3)\n",
    "ax[0].imshow(foreground[10])\n",
    "ax[1].imshow(boundaries[10])\n",
    "ax[2].imshow(instance_seg[10])\n",
    "plt.show()"
   ]
  },
  {
   "cell_type": "code",
   "execution_count": null,
   "id": "understanding-zimbabwe",
   "metadata": {},
   "outputs": [],
   "source": []
  }
 ],
 "metadata": {
  "kernelspec": {
   "display_name": "Python 3 (ipykernel)",
   "language": "python",
   "name": "python3"
  },
  "language_info": {
   "codemirror_mode": {
    "name": "ipython",
    "version": 3
   },
   "file_extension": ".py",
   "mimetype": "text/x-python",
   "name": "python",
   "nbconvert_exporter": "python",
   "pygments_lexer": "ipython3",
   "version": "3.9.7"
  }
 },
 "nbformat": 4,
 "nbformat_minor": 5
}
